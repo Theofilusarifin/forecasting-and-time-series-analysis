{
 "cells": [
  {
   "cell_type": "markdown",
   "metadata": {
    "run_control": {
     "marked": true
    }
   },
   "source": [
    "# Machine Learning Foundation\n",
    "\n",
    "## Course 6, Part a: Pandas TimeSeries LAB"
   ]
  },
  {
   "cell_type": "markdown",
   "metadata": {},
   "source": [
    "## Learning Outcomes\n",
    "\n",
    "* Understand time series applications for NumPy and Pandas\n",
    "* Summarize a dataframe with a datetime index\n",
    "* Generate simple time series plots\n"
   ]
  },
  {
   "cell_type": "markdown",
   "metadata": {},
   "source": [
    "# Overview: Time Series Data in Python\n",
    "\n",
    "In this lesson, we will explore some key Time Series-related functionality in the Numpy, Pandas, and Matplotlib packages. We will explore basic data types and summarize a Pandas DataFrame with a DateTime index. We will also explore basic plotting and Time Series visualization. For this lesson, we will use a sample dataset called \"Superstore Sales\", which includes 4 years of daily Sales data by customer and category. Note: this lesson assumes some basic familiarity with Python and Python data types. References are provided for introductory lessons for each module.\n",
    "\n",
    "__[Pandas](http://pandas.pydata.org/pandas-docs/stable/index.html):__ has built-in Time Series functionality to work with dates, date ranges, and Time Series data. It is useful for analyzing groups of time series and manipulating data. "
   ]
  },
  {
   "cell_type": "markdown",
   "metadata": {},
   "source": [
    "# Key Data Types for Time Series Data\n",
    "\n",
    "## Key NumPy data types:\n",
    "> 1. __[`Array`](https://docs.scipy.org/doc/numpy/reference/arrays.ndarray.html)__: Array of similarly-typed values, fundamental building block of further analysis. The NumPy __Array__ object has several useful built-in [methods](https://docs.scipy.org/doc/numpy/reference/arrays.ndarray.html#array-methods), including: `shape`, `max`/`min`, `argmax`/`argmin`, `sum`, `cumsum`, `mean`, `var`, `std`, `prod`, `cumprod`, etc.\n",
    "> 2. __[`datetime64`](https://docs.scipy.org/doc/numpy/reference/arrays.datetime.html)__: is NumPy's datetime format, where each value is a timestamp. It was created to improve on Python's datetime format, and stores timestamps as 64-bit integers. These timestamps often default to nanosecond precision (`datetime64[ns]`), even when working with daily or hourly data, although this can be adjusted.   \n",
    "> 3. __[`timedelta64`](https://docs.scipy.org/doc/numpy/reference/arrays.datetime.html)__: is NumPy's time interval format, which can be thought of as a period of time between two *datetime64* values and uses the same units as *datetime64*. The most common unit values are: __Y__: `year`, __M__: `month`, __W__: `week`, __D__: `day`, __h__: `hour`, __m__: `minute`, __s__: `second`, __ns__: `nanosecond` (default). \n",
    "\n",
    "## Key Pandas data types:\n",
    "> 1. __[`Series`](http://pandas.pydata.org/pandas-docs/stable/generated/pandas.Series.html#pandas.Series)__: Series is a one-dimensional labeled array that is capable of holding any data type (i.e. `int`, `str`, `float`, etc.), but every element is of this same type. The axis labels of a Series are referred to as the __Index__ of the Series, while the Pandas __Series__ object is similar to the NumPy __Array__, \n",
    "> 2. __[`DataFrame`](https://pandas.pydata.org/pandas-docs/stable/generated/pandas.DataFrame.html)__: Dataframe is a two-dimensional labeled data structure with columns of potentially different types. It largely resembles a spreadsheet or SQL table. The first axis labels of a Dataframe (rows) are referred to as the __Index__ of the Series, whereas the second axis labels labels of a Dataframe (columns) are referred to as the __Columns__ of the Series\n",
    "> 3. __[`Index`](https://pandas.pydata.org/pandas-docs/stable/reference/api/pandas.Index.html)__: Pandas provides much of its functionality through the __Index__ object. Every DataFrame has an attribute: `.index`, which uniquely labels rows and columns and facilitates DataFrame manipulation. The simplest (default) Index type is a RangeIndex, usually a list of integer values. This is often automatically generated when an Index is not set explicitly, or when the Index is reset. Time Series data are usually best represented using the __[DatetimeIndex](https://pandas.pydata.org/pandas-docs/stable/reference/api/pandas.DatetimeIndex.html#pandas.DatetimeIndex)__ Index, which is an index of NumPy datetime64 values. However, it is sometimes convenient to use time intervals for the index using the __[Timedelta](https://pandas.pydata.org/pandas-docs/stable/reference/api/pandas.Timedelta.html#pandas.Timedelta)__ index, or the __[PeriodIndex](https://pandas.pydata.org/pandas-docs/stable/reference/api/pandas.PeriodIndex.html#pandas.PeriodIndex)__ when intervals are regular. Pandas supports multiple-level indexing (including hierarchical indexing) via the __[MultiIndex](https://pandas.pydata.org/pandas-docs/stable/reference/api/pandas.MultiIndex.html#pandas.MultiIndex)__, which accommodates indices of different types and can simplify data exploration.\n",
    "\n",
    "# Dataset Exploration Example\n",
    "Here we will read in some sample data and explore some key data types and attributes. Our source data is a publicly-available retail sales dataset: __[Superstore Sales](\"data/Superstore - Sales.csv\")__, available as a spreadsheet. We begin by importing the libraries and reading in data.\n",
    "\n",
    "## Setup"
   ]
  },
  {
   "cell_type": "code",
   "execution_count": 81,
   "metadata": {},
   "outputs": [],
   "source": [
    "# imports\n",
    "import pandas as pd\n",
    "import numpy as np \n",
    "import matplotlib.pyplot as plt\n",
    "import seaborn as sns\n",
    "import warnings\n",
    "from datetime import datetime\n",
    "from datetime import timedelta\n",
    "from dateutil.relativedelta import relativedelta\n",
    "from IPython.display import display\n",
    "import os\n",
    "from colorsetup import colors, palette\n",
    "sns.set_palette(palette)\n",
    "# ignore warnings\n",
    "warnings.filterwarnings('ignore')\n",
    "pd.options.display.float_format = '{:,.1f}'.format\n",
    "%matplotlib inline\n",
    "plotsize = (13, 5)"
   ]
  },
  {
   "cell_type": "markdown",
   "metadata": {},
   "source": [
    "### Read in source data:\n",
    "It is often easiest to read data in as a Pandas DataFrame. Pandas provides a variety of __[Input/Output](https://pandas.pydata.org/pandas-docs/stable/reference/io.html)__ options to read files from common (.csv, .json) or proprietary (.xls, .sas7bdat) formats."
   ]
  },
  {
   "cell_type": "code",
   "execution_count": 82,
   "metadata": {},
   "outputs": [
    {
     "data": {
      "text/plain": [
       "Index(['Row ID', 'Order ID', 'Order Date', 'Ship Date', 'Ship Mode',\n",
       "       'Customer ID', 'Customer Name', 'Segment', 'Country', 'City', 'State',\n",
       "       'Postal Code', 'Region', 'Product ID', 'Category', 'Sub-Category',\n",
       "       'Product Name', 'Sales', 'Quantity', 'Discount', 'Profit'],\n",
       "      dtype='object')"
      ]
     },
     "execution_count": 82,
     "metadata": {},
     "output_type": "execute_result"
    }
   ],
   "source": [
    "df = pd.read_excel(\"./Sample - Superstore.xls\")\n",
    "df.columns"
   ]
  },
  {
   "cell_type": "markdown",
   "metadata": {},
   "source": [
    "We can see the data have been input and the columns are referenced by a Pandas Index object. There are two Date variables (Order Date and Ship Date), variables for customer and region, product type variables (Category, Sub-Category, Product Name), etc. \n",
    "\n",
    "### Simplify Time Series Data\n",
    "We will start by simplifying the input data a bit to explore data types. To do so, we will look at Total Sales by Order Date and Category. This allows us to look a Time Series dataset with multiple time series. "
   ]
  },
  {
   "cell_type": "code",
   "execution_count": 83,
   "metadata": {},
   "outputs": [],
   "source": [
    "variables = ['Order Date', 'Category', 'Sales']\n",
    "group_variables = variables[:2]\n",
    "outcome_variable = variables[2]\n",
    "base = df.groupby(group_variables)[outcome_variable].sum().reset_index()"
   ]
  },
  {
   "cell_type": "markdown",
   "metadata": {},
   "source": [
    "Note we reset the index, if we don't, Pandas sets the group variables to the index (more on this later). We can see the result is a Pandas DataFrame with columns for `Order Date`, `Category`, and `Sales`. We can think of this as a `Sales` time series for each `Category`."
   ]
  },
  {
   "cell_type": "code",
   "execution_count": 84,
   "metadata": {},
   "outputs": [
    {
     "name": "stdout",
     "output_type": "stream",
     "text": [
      "Columns: Index(['Order Date', 'Category', 'Sales'], dtype='object')\n",
      "Index: RangeIndex(start=0, stop=2864, step=1)\n"
     ]
    }
   ],
   "source": [
    "print(\"Columns:\", base.columns)\n",
    "print(\"Index:\", base.index)"
   ]
  },
  {
   "cell_type": "code",
   "execution_count": 85,
   "metadata": {},
   "outputs": [
    {
     "data": {
      "text/html": [
       "<div>\n",
       "<style scoped>\n",
       "    .dataframe tbody tr th:only-of-type {\n",
       "        vertical-align: middle;\n",
       "    }\n",
       "\n",
       "    .dataframe tbody tr th {\n",
       "        vertical-align: top;\n",
       "    }\n",
       "\n",
       "    .dataframe thead th {\n",
       "        text-align: right;\n",
       "    }\n",
       "</style>\n",
       "<table border=\"1\" class=\"dataframe\">\n",
       "  <thead>\n",
       "    <tr style=\"text-align: right;\">\n",
       "      <th></th>\n",
       "      <th>Order Date</th>\n",
       "      <th>Category</th>\n",
       "      <th>Sales</th>\n",
       "    </tr>\n",
       "  </thead>\n",
       "  <tbody>\n",
       "    <tr>\n",
       "      <th>0</th>\n",
       "      <td>2011-01-04</td>\n",
       "      <td>Office Supplies</td>\n",
       "      <td>16.4</td>\n",
       "    </tr>\n",
       "    <tr>\n",
       "      <th>1</th>\n",
       "      <td>2011-01-05</td>\n",
       "      <td>Office Supplies</td>\n",
       "      <td>288.1</td>\n",
       "    </tr>\n",
       "    <tr>\n",
       "      <th>2</th>\n",
       "      <td>2011-01-06</td>\n",
       "      <td>Office Supplies</td>\n",
       "      <td>19.5</td>\n",
       "    </tr>\n",
       "    <tr>\n",
       "      <th>3</th>\n",
       "      <td>2011-01-07</td>\n",
       "      <td>Furniture</td>\n",
       "      <td>2,573.8</td>\n",
       "    </tr>\n",
       "    <tr>\n",
       "      <th>4</th>\n",
       "      <td>2011-01-07</td>\n",
       "      <td>Office Supplies</td>\n",
       "      <td>685.3</td>\n",
       "    </tr>\n",
       "  </tbody>\n",
       "</table>\n",
       "</div>"
      ],
      "text/plain": [
       "  Order Date         Category   Sales\n",
       "0 2011-01-04  Office Supplies    16.4\n",
       "1 2011-01-05  Office Supplies   288.1\n",
       "2 2011-01-06  Office Supplies    19.5\n",
       "3 2011-01-07        Furniture 2,573.8\n",
       "4 2011-01-07  Office Supplies   685.3"
      ]
     },
     "execution_count": 85,
     "metadata": {},
     "output_type": "execute_result"
    }
   ],
   "source": [
    "base.head()"
   ]
  },
  {
   "cell_type": "markdown",
   "metadata": {},
   "source": [
    "Individual DataFrame columns are Pandas `Series`, and we can see the `RangeIndex` on the left. This Pandas `DataFrame` is a combination of the `RangeIndex` and Pandas `Series` objects, where each has an underlying data type:"
   ]
  },
  {
   "cell_type": "code",
   "execution_count": 86,
   "metadata": {},
   "outputs": [
    {
     "data": {
      "text/plain": [
       "Order Date    datetime64[ns]\n",
       "Category              object\n",
       "Sales                float64\n",
       "dtype: object"
      ]
     },
     "execution_count": 86,
     "metadata": {},
     "output_type": "execute_result"
    }
   ],
   "source": [
    "base.dtypes"
   ]
  },
  {
   "cell_type": "markdown",
   "metadata": {},
   "source": [
    "#### Pandas DataFrame types:"
   ]
  },
  {
   "cell_type": "code",
   "execution_count": 87,
   "metadata": {},
   "outputs": [
    {
     "name": "stdout",
     "output_type": "stream",
     "text": [
      "Order Date <class 'pandas.core.series.Series'> datetime64[ns]\n",
      "Category <class 'pandas.core.series.Series'> object\n",
      "Sales <class 'pandas.core.series.Series'> float64\n"
     ]
    }
   ],
   "source": [
    "for x in base.columns:\n",
    "    print(x, type(base[x]), base[x].dtype)"
   ]
  },
  {
   "cell_type": "markdown",
   "metadata": {},
   "source": [
    "### Working with NumPy Arrays\n",
    "It isn't always necessary to extract NumPy arrays, as the Pandas Series contains NumPy functionality. However, some applications use NumPy arrays as inputs and can bypass Pandas if desired."
   ]
  },
  {
   "cell_type": "code",
   "execution_count": 88,
   "metadata": {},
   "outputs": [],
   "source": [
    "order_date = np.array(base['Order Date'])\n",
    "category = np.array(base['Category'])\n",
    "sales = np.array (base['Sales'])"
   ]
  },
  {
   "cell_type": "code",
   "execution_count": 89,
   "metadata": {},
   "outputs": [
    {
     "name": "stdout",
     "output_type": "stream",
     "text": [
      "Order Date <class 'numpy.ndarray'> datetime64[ns]\n",
      "Category <class 'numpy.ndarray'> object\n",
      "Sales <class 'numpy.ndarray'> float64\n"
     ]
    }
   ],
   "source": [
    "print('Order Date', type(order_date), order_date.dtype)\n",
    "print('Category', type(category), category.dtype)\n",
    "print('Sales', type(sales), sales.dtype)"
   ]
  },
  {
   "cell_type": "markdown",
   "metadata": {},
   "source": [
    "If starting from the NumPy arrays, we could build the DataFrame (note dictionary input structure):"
   ]
  },
  {
   "cell_type": "code",
   "execution_count": 90,
   "metadata": {},
   "outputs": [],
   "source": [
    "df_from_numpy = pd.DataFrame({'Order Date':order_date, 'Category':category, 'Sales':sales})"
   ]
  },
  {
   "cell_type": "code",
   "execution_count": 91,
   "metadata": {},
   "outputs": [
    {
     "data": {
      "text/plain": [
       "Order Date    datetime64[ns]\n",
       "Category              object\n",
       "Sales                float64\n",
       "dtype: object"
      ]
     },
     "execution_count": 91,
     "metadata": {},
     "output_type": "execute_result"
    }
   ],
   "source": [
    "df_from_numpy.dtypes"
   ]
  },
  {
   "cell_type": "markdown",
   "metadata": {},
   "source": [
    "### datetime64 format in Numpy\n",
    "The NumPy date array is a datetime64 object, with ns (nanosecond) units. We can leave it this way, or specify a unit:"
   ]
  },
  {
   "cell_type": "markdown",
   "metadata": {},
   "source": [
    "While the Array and Pandas Series are basically the same, we see the Series has an index, and formats the date output somewhat."
   ]
  },
  {
   "cell_type": "code",
   "execution_count": 92,
   "metadata": {},
   "outputs": [
    {
     "data": {
      "text/plain": [
       "array(['2011-01-04T00:00:00.000000000', '2011-01-05T00:00:00.000000000',\n",
       "       '2011-01-06T00:00:00.000000000', ...,\n",
       "       '2014-12-31T00:00:00.000000000', '2014-12-31T00:00:00.000000000',\n",
       "       '2014-12-31T00:00:00.000000000'], dtype='datetime64[ns]')"
      ]
     },
     "execution_count": 92,
     "metadata": {},
     "output_type": "execute_result"
    }
   ],
   "source": [
    "order_date"
   ]
  },
  {
   "cell_type": "code",
   "execution_count": 93,
   "metadata": {},
   "outputs": [],
   "source": [
    "order_date_daily = np.array(order_date, dtype='datetime64[D]')"
   ]
  },
  {
   "cell_type": "code",
   "execution_count": 94,
   "metadata": {},
   "outputs": [
    {
     "data": {
      "text/plain": [
       "array(['2011-01-04', '2011-01-05', '2011-01-06', ..., '2014-12-31',\n",
       "       '2014-12-31', '2014-12-31'], dtype='datetime64[D]')"
      ]
     },
     "execution_count": 94,
     "metadata": {},
     "output_type": "execute_result"
    }
   ],
   "source": [
    "order_date_daily"
   ]
  },
  {
   "cell_type": "markdown",
   "metadata": {},
   "source": [
    "The order_date variable now has daily format, although this doesn't change much because we already had one observation per day. In practice, leaving nanosecond precision is usually fine. \n",
    "\n",
    "However, if we aggregate to monthly:"
   ]
  },
  {
   "cell_type": "code",
   "execution_count": 95,
   "metadata": {},
   "outputs": [],
   "source": [
    "order_date_monthly = np.array(order_date, dtype='datetime64[M]')"
   ]
  },
  {
   "cell_type": "code",
   "execution_count": 96,
   "metadata": {},
   "outputs": [
    {
     "data": {
      "text/plain": [
       "array(['2011-01', '2011-01', '2011-01', ..., '2014-12', '2014-12',\n",
       "       '2014-12'], dtype='datetime64[M]')"
      ]
     },
     "execution_count": 96,
     "metadata": {},
     "output_type": "execute_result"
    }
   ],
   "source": [
    "order_date_monthly"
   ]
  },
  {
   "cell_type": "code",
   "execution_count": 97,
   "metadata": {},
   "outputs": [
    {
     "data": {
      "text/plain": [
       "array(['2011-01', '2011-02', '2011-03', '2011-04', '2011-05', '2011-06',\n",
       "       '2011-07', '2011-08', '2011-09', '2011-10', '2011-11', '2011-12',\n",
       "       '2012-01', '2012-02', '2012-03', '2012-04', '2012-05', '2012-06',\n",
       "       '2012-07', '2012-08', '2012-09', '2012-10', '2012-11', '2012-12',\n",
       "       '2013-01', '2013-02', '2013-03', '2013-04', '2013-05', '2013-06',\n",
       "       '2013-07', '2013-08', '2013-09', '2013-10', '2013-11', '2013-12',\n",
       "       '2014-01', '2014-02', '2014-03', '2014-04', '2014-05', '2014-06',\n",
       "       '2014-07', '2014-08', '2014-09', '2014-10', '2014-11', '2014-12'],\n",
       "      dtype='datetime64[M]')"
      ]
     },
     "execution_count": 97,
     "metadata": {},
     "output_type": "execute_result"
    }
   ],
   "source": [
    "np.unique(order_date_monthly)"
   ]
  },
  {
   "cell_type": "code",
   "execution_count": 98,
   "metadata": {},
   "outputs": [
    {
     "data": {
      "text/plain": [
       "48"
      ]
     },
     "execution_count": 98,
     "metadata": {},
     "output_type": "execute_result"
    }
   ],
   "source": [
    "len(np.unique(order_date_monthly))"
   ]
  },
  {
   "cell_type": "markdown",
   "metadata": {},
   "source": [
    "We can see we have 48 unique months of data. "
   ]
  },
  {
   "cell_type": "markdown",
   "metadata": {},
   "source": [
    "# Working with the Pandas DatetimeIndex \n",
    "Let's return to our Pandas DataFrame object:"
   ]
  },
  {
   "cell_type": "code",
   "execution_count": 99,
   "metadata": {},
   "outputs": [
    {
     "data": {
      "text/html": [
       "<div>\n",
       "<style scoped>\n",
       "    .dataframe tbody tr th:only-of-type {\n",
       "        vertical-align: middle;\n",
       "    }\n",
       "\n",
       "    .dataframe tbody tr th {\n",
       "        vertical-align: top;\n",
       "    }\n",
       "\n",
       "    .dataframe thead th {\n",
       "        text-align: right;\n",
       "    }\n",
       "</style>\n",
       "<table border=\"1\" class=\"dataframe\">\n",
       "  <thead>\n",
       "    <tr style=\"text-align: right;\">\n",
       "      <th></th>\n",
       "      <th>Order Date</th>\n",
       "      <th>Category</th>\n",
       "      <th>Sales</th>\n",
       "    </tr>\n",
       "  </thead>\n",
       "  <tbody>\n",
       "    <tr>\n",
       "      <th>0</th>\n",
       "      <td>2011-01-04</td>\n",
       "      <td>Office Supplies</td>\n",
       "      <td>16.4</td>\n",
       "    </tr>\n",
       "    <tr>\n",
       "      <th>1</th>\n",
       "      <td>2011-01-05</td>\n",
       "      <td>Office Supplies</td>\n",
       "      <td>288.1</td>\n",
       "    </tr>\n",
       "    <tr>\n",
       "      <th>2</th>\n",
       "      <td>2011-01-06</td>\n",
       "      <td>Office Supplies</td>\n",
       "      <td>19.5</td>\n",
       "    </tr>\n",
       "    <tr>\n",
       "      <th>3</th>\n",
       "      <td>2011-01-07</td>\n",
       "      <td>Furniture</td>\n",
       "      <td>2,573.8</td>\n",
       "    </tr>\n",
       "    <tr>\n",
       "      <th>4</th>\n",
       "      <td>2011-01-07</td>\n",
       "      <td>Office Supplies</td>\n",
       "      <td>685.3</td>\n",
       "    </tr>\n",
       "  </tbody>\n",
       "</table>\n",
       "</div>"
      ],
      "text/plain": [
       "  Order Date         Category   Sales\n",
       "0 2011-01-04  Office Supplies    16.4\n",
       "1 2011-01-05  Office Supplies   288.1\n",
       "2 2011-01-06  Office Supplies    19.5\n",
       "3 2011-01-07        Furniture 2,573.8\n",
       "4 2011-01-07  Office Supplies   685.3"
      ]
     },
     "metadata": {},
     "output_type": "display_data"
    },
    {
     "name": "stdout",
     "output_type": "stream",
     "text": [
      "\n",
      " Unique categories:\n",
      "['Office Supplies' 'Furniture' 'Technology']\n"
     ]
    }
   ],
   "source": [
    "display(base.head())\n",
    "print('\\n Unique categories:')\n",
    "print(base['Category'].unique())"
   ]
  },
  {
   "cell_type": "markdown",
   "metadata": {},
   "source": [
    "## Setting Index Using Existing Variable\n",
    "We often want to set an Index explicitly, or manipulate an Index, for working with Time Series data. The Pandas DateTime Index is useful here, although it is often useful to standardize the  index by ensuring all relevant time periods are included only once. Our data violate this condition for two reasons: (1) Multiple values for a given period (due to multiple categories) and (2) Missing days (for daily data). We will fix both of these issues below, and explore some useful Datetime functionality."
   ]
  },
  {
   "cell_type": "code",
   "execution_count": 100,
   "metadata": {},
   "outputs": [],
   "source": [
    "base.set_index('Order Date', inplace=True)\n",
    "# Note that without inplace=True, it will output the results without changing the data"
   ]
  },
  {
   "cell_type": "code",
   "execution_count": 101,
   "metadata": {},
   "outputs": [
    {
     "data": {
      "text/html": [
       "<div>\n",
       "<style scoped>\n",
       "    .dataframe tbody tr th:only-of-type {\n",
       "        vertical-align: middle;\n",
       "    }\n",
       "\n",
       "    .dataframe tbody tr th {\n",
       "        vertical-align: top;\n",
       "    }\n",
       "\n",
       "    .dataframe thead th {\n",
       "        text-align: right;\n",
       "    }\n",
       "</style>\n",
       "<table border=\"1\" class=\"dataframe\">\n",
       "  <thead>\n",
       "    <tr style=\"text-align: right;\">\n",
       "      <th></th>\n",
       "      <th>Category</th>\n",
       "      <th>Sales</th>\n",
       "    </tr>\n",
       "    <tr>\n",
       "      <th>Order Date</th>\n",
       "      <th></th>\n",
       "      <th></th>\n",
       "    </tr>\n",
       "  </thead>\n",
       "  <tbody>\n",
       "    <tr>\n",
       "      <th>2011-01-04</th>\n",
       "      <td>Office Supplies</td>\n",
       "      <td>16.4</td>\n",
       "    </tr>\n",
       "    <tr>\n",
       "      <th>2011-01-05</th>\n",
       "      <td>Office Supplies</td>\n",
       "      <td>288.1</td>\n",
       "    </tr>\n",
       "    <tr>\n",
       "      <th>2011-01-06</th>\n",
       "      <td>Office Supplies</td>\n",
       "      <td>19.5</td>\n",
       "    </tr>\n",
       "    <tr>\n",
       "      <th>2011-01-07</th>\n",
       "      <td>Furniture</td>\n",
       "      <td>2,573.8</td>\n",
       "    </tr>\n",
       "    <tr>\n",
       "      <th>2011-01-07</th>\n",
       "      <td>Office Supplies</td>\n",
       "      <td>685.3</td>\n",
       "    </tr>\n",
       "  </tbody>\n",
       "</table>\n",
       "</div>"
      ],
      "text/plain": [
       "                   Category   Sales\n",
       "Order Date                         \n",
       "2011-01-04  Office Supplies    16.4\n",
       "2011-01-05  Office Supplies   288.1\n",
       "2011-01-06  Office Supplies    19.5\n",
       "2011-01-07        Furniture 2,573.8\n",
       "2011-01-07  Office Supplies   685.3"
      ]
     },
     "execution_count": 101,
     "metadata": {},
     "output_type": "execute_result"
    }
   ],
   "source": [
    "base.head()"
   ]
  },
  {
   "cell_type": "code",
   "execution_count": 102,
   "metadata": {},
   "outputs": [
    {
     "name": "stdout",
     "output_type": "stream",
     "text": [
      "DatetimeIndex(['2011-01-04', '2011-01-05', '2011-01-06', '2011-01-07',\n",
      "               '2011-01-07', '2011-01-07', '2011-01-08', '2011-01-08',\n",
      "               '2011-01-10', '2011-01-10',\n",
      "               ...\n",
      "               '2014-12-28', '2014-12-29', '2014-12-29', '2014-12-29',\n",
      "               '2014-12-30', '2014-12-30', '2014-12-30', '2014-12-31',\n",
      "               '2014-12-31', '2014-12-31'],\n",
      "              dtype='datetime64[ns]', name='Order Date', length=2864, freq=None)\n",
      "DatetimeIndex(['2011-01-04', '2011-01-05', '2011-01-06', '2011-01-07',\n",
      "               '2011-01-08', '2011-01-10', '2011-01-11', '2011-01-12',\n",
      "               '2011-01-14', '2011-01-15',\n",
      "               ...\n",
      "               '2014-12-22', '2014-12-23', '2014-12-24', '2014-12-25',\n",
      "               '2014-12-26', '2014-12-27', '2014-12-28', '2014-12-29',\n",
      "               '2014-12-30', '2014-12-31'],\n",
      "              dtype='datetime64[ns]', name='Order Date', length=1238, freq=None)\n"
     ]
    }
   ],
   "source": [
    "print(base.index)\n",
    "print(base.index.unique())"
   ]
  },
  {
   "cell_type": "markdown",
   "metadata": {},
   "source": [
    "## Subsetting data\n",
    "We now have a __DatetimeIndex__ and we can use it to select data subsets:"
   ]
  },
  {
   "cell_type": "code",
   "execution_count": 103,
   "metadata": {},
   "outputs": [
    {
     "data": {
      "text/html": [
       "<div>\n",
       "<style scoped>\n",
       "    .dataframe tbody tr th:only-of-type {\n",
       "        vertical-align: middle;\n",
       "    }\n",
       "\n",
       "    .dataframe tbody tr th {\n",
       "        vertical-align: top;\n",
       "    }\n",
       "\n",
       "    .dataframe thead th {\n",
       "        text-align: right;\n",
       "    }\n",
       "</style>\n",
       "<table border=\"1\" class=\"dataframe\">\n",
       "  <thead>\n",
       "    <tr style=\"text-align: right;\">\n",
       "      <th></th>\n",
       "      <th>Category</th>\n",
       "      <th>Sales</th>\n",
       "    </tr>\n",
       "    <tr>\n",
       "      <th>Order Date</th>\n",
       "      <th></th>\n",
       "      <th></th>\n",
       "    </tr>\n",
       "  </thead>\n",
       "  <tbody>\n",
       "    <tr>\n",
       "      <th>2011-12-30</th>\n",
       "      <td>Office Supplies</td>\n",
       "      <td>774.6</td>\n",
       "    </tr>\n",
       "    <tr>\n",
       "      <th>2011-12-30</th>\n",
       "      <td>Technology</td>\n",
       "      <td>874.3</td>\n",
       "    </tr>\n",
       "    <tr>\n",
       "      <th>2011-12-31</th>\n",
       "      <td>Furniture</td>\n",
       "      <td>2,584.5</td>\n",
       "    </tr>\n",
       "    <tr>\n",
       "      <th>2011-12-31</th>\n",
       "      <td>Office Supplies</td>\n",
       "      <td>308.7</td>\n",
       "    </tr>\n",
       "    <tr>\n",
       "      <th>2011-12-31</th>\n",
       "      <td>Technology</td>\n",
       "      <td>2,360.0</td>\n",
       "    </tr>\n",
       "  </tbody>\n",
       "</table>\n",
       "</div>"
      ],
      "text/plain": [
       "                   Category   Sales\n",
       "Order Date                         \n",
       "2011-12-30  Office Supplies   774.6\n",
       "2011-12-30       Technology   874.3\n",
       "2011-12-31        Furniture 2,584.5\n",
       "2011-12-31  Office Supplies   308.7\n",
       "2011-12-31       Technology 2,360.0"
      ]
     },
     "metadata": {},
     "output_type": "display_data"
    }
   ],
   "source": [
    "# Display the first few rows of data for the year 2011\n",
    "data_2011 = base.loc['2011']\n",
    "display(data_2011.tail())"
   ]
  },
  {
   "cell_type": "code",
   "execution_count": 104,
   "metadata": {},
   "outputs": [
    {
     "data": {
      "text/html": [
       "<div>\n",
       "<style scoped>\n",
       "    .dataframe tbody tr th:only-of-type {\n",
       "        vertical-align: middle;\n",
       "    }\n",
       "\n",
       "    .dataframe tbody tr th {\n",
       "        vertical-align: top;\n",
       "    }\n",
       "\n",
       "    .dataframe thead th {\n",
       "        text-align: right;\n",
       "    }\n",
       "</style>\n",
       "<table border=\"1\" class=\"dataframe\">\n",
       "  <thead>\n",
       "    <tr style=\"text-align: right;\">\n",
       "      <th></th>\n",
       "      <th>Category</th>\n",
       "      <th>Sales</th>\n",
       "    </tr>\n",
       "    <tr>\n",
       "      <th>Order Date</th>\n",
       "      <th></th>\n",
       "      <th></th>\n",
       "    </tr>\n",
       "  </thead>\n",
       "  <tbody>\n",
       "    <tr>\n",
       "      <th>2011-01-04</th>\n",
       "      <td>Office Supplies</td>\n",
       "      <td>16.4</td>\n",
       "    </tr>\n",
       "    <tr>\n",
       "      <th>2011-01-05</th>\n",
       "      <td>Office Supplies</td>\n",
       "      <td>288.1</td>\n",
       "    </tr>\n",
       "    <tr>\n",
       "      <th>2011-01-06</th>\n",
       "      <td>Office Supplies</td>\n",
       "      <td>19.5</td>\n",
       "    </tr>\n",
       "    <tr>\n",
       "      <th>2011-01-07</th>\n",
       "      <td>Office Supplies</td>\n",
       "      <td>685.3</td>\n",
       "    </tr>\n",
       "    <tr>\n",
       "      <th>2011-01-08</th>\n",
       "      <td>Office Supplies</td>\n",
       "      <td>10.4</td>\n",
       "    </tr>\n",
       "  </tbody>\n",
       "</table>\n",
       "</div>"
      ],
      "text/plain": [
       "                   Category  Sales\n",
       "Order Date                        \n",
       "2011-01-04  Office Supplies   16.4\n",
       "2011-01-05  Office Supplies  288.1\n",
       "2011-01-06  Office Supplies   19.5\n",
       "2011-01-07  Office Supplies  685.3\n",
       "2011-01-08  Office Supplies   10.4"
      ]
     },
     "metadata": {},
     "output_type": "display_data"
    }
   ],
   "source": [
    "# Observations in a range of dates, subset of columns:\n",
    "display(base[base['Category'] == 'Office Supplies']['2011':'2012-02'].head())"
   ]
  },
  {
   "cell_type": "markdown",
   "metadata": {},
   "source": [
    "## Datetime Components \n",
    "Pandas Datetime variables have a number of useful __[components](https://pandas.pydata.org/pandas-docs/stable/user_guide/timeseries.html#time-date-components)__.  Using the DatetimeIndex, we can extract items like month, year, day of week, quarter, etc.:"
   ]
  },
  {
   "cell_type": "code",
   "execution_count": 105,
   "metadata": {},
   "outputs": [
    {
     "name": "stdout",
     "output_type": "stream",
     "text": [
      "Day: Index([ 4,  5,  6,  7,  7,  7,  8,  8, 10, 10,\n",
      "       ...\n",
      "       28, 29, 29, 29, 30, 30, 30, 31, 31, 31],\n",
      "      dtype='int32', name='Order Date', length=2864)\n"
     ]
    }
   ],
   "source": [
    "print('Day:', base.index.day)\n",
    "#base.set_index('Order Date', inplace=True)"
   ]
  },
  {
   "cell_type": "code",
   "execution_count": 106,
   "metadata": {},
   "outputs": [
    {
     "name": "stdout",
     "output_type": "stream",
     "text": [
      "Week:\n"
     ]
    },
    {
     "data": {
      "text/html": [
       "<div>\n",
       "<style scoped>\n",
       "    .dataframe tbody tr th:only-of-type {\n",
       "        vertical-align: middle;\n",
       "    }\n",
       "\n",
       "    .dataframe tbody tr th {\n",
       "        vertical-align: top;\n",
       "    }\n",
       "\n",
       "    .dataframe thead th {\n",
       "        text-align: right;\n",
       "    }\n",
       "</style>\n",
       "<table border=\"1\" class=\"dataframe\">\n",
       "  <thead>\n",
       "    <tr style=\"text-align: right;\">\n",
       "      <th></th>\n",
       "      <th>Order Date</th>\n",
       "      <th>week</th>\n",
       "    </tr>\n",
       "  </thead>\n",
       "  <tbody>\n",
       "    <tr>\n",
       "      <th>0</th>\n",
       "      <td>2011-01-04</td>\n",
       "      <td>1</td>\n",
       "    </tr>\n",
       "    <tr>\n",
       "      <th>1</th>\n",
       "      <td>2011-01-05</td>\n",
       "      <td>1</td>\n",
       "    </tr>\n",
       "    <tr>\n",
       "      <th>2</th>\n",
       "      <td>2011-01-06</td>\n",
       "      <td>1</td>\n",
       "    </tr>\n",
       "    <tr>\n",
       "      <th>3</th>\n",
       "      <td>2011-01-07</td>\n",
       "      <td>1</td>\n",
       "    </tr>\n",
       "    <tr>\n",
       "      <th>4</th>\n",
       "      <td>2011-01-07</td>\n",
       "      <td>1</td>\n",
       "    </tr>\n",
       "    <tr>\n",
       "      <th>5</th>\n",
       "      <td>2011-01-07</td>\n",
       "      <td>1</td>\n",
       "    </tr>\n",
       "    <tr>\n",
       "      <th>6</th>\n",
       "      <td>2011-01-08</td>\n",
       "      <td>1</td>\n",
       "    </tr>\n",
       "    <tr>\n",
       "      <th>7</th>\n",
       "      <td>2011-01-08</td>\n",
       "      <td>1</td>\n",
       "    </tr>\n",
       "    <tr>\n",
       "      <th>8</th>\n",
       "      <td>2011-01-10</td>\n",
       "      <td>2</td>\n",
       "    </tr>\n",
       "    <tr>\n",
       "      <th>9</th>\n",
       "      <td>2011-01-10</td>\n",
       "      <td>2</td>\n",
       "    </tr>\n",
       "  </tbody>\n",
       "</table>\n",
       "</div>"
      ],
      "text/plain": [
       "  Order Date  week\n",
       "0 2011-01-04     1\n",
       "1 2011-01-05     1\n",
       "2 2011-01-06     1\n",
       "3 2011-01-07     1\n",
       "4 2011-01-07     1\n",
       "5 2011-01-07     1\n",
       "6 2011-01-08     1\n",
       "7 2011-01-08     1\n",
       "8 2011-01-10     2\n",
       "9 2011-01-10     2"
      ]
     },
     "metadata": {},
     "output_type": "display_data"
    }
   ],
   "source": [
    "print('Week:')\n",
    "week_base = base.index.isocalendar().week.reset_index()\n",
    "display(week_base.head(10))"
   ]
  },
  {
   "cell_type": "code",
   "execution_count": 107,
   "metadata": {},
   "outputs": [
    {
     "data": {
      "text/html": [
       "<div>\n",
       "<style scoped>\n",
       "    .dataframe tbody tr th:only-of-type {\n",
       "        vertical-align: middle;\n",
       "    }\n",
       "\n",
       "    .dataframe tbody tr th {\n",
       "        vertical-align: top;\n",
       "    }\n",
       "\n",
       "    .dataframe thead th {\n",
       "        text-align: right;\n",
       "    }\n",
       "</style>\n",
       "<table border=\"1\" class=\"dataframe\">\n",
       "  <thead>\n",
       "    <tr style=\"text-align: right;\">\n",
       "      <th></th>\n",
       "      <th>Category</th>\n",
       "      <th>Sales</th>\n",
       "      <th>DayofWeek</th>\n",
       "    </tr>\n",
       "    <tr>\n",
       "      <th>Order Date</th>\n",
       "      <th></th>\n",
       "      <th></th>\n",
       "      <th></th>\n",
       "    </tr>\n",
       "  </thead>\n",
       "  <tbody>\n",
       "    <tr>\n",
       "      <th>2011-01-04</th>\n",
       "      <td>Office Supplies</td>\n",
       "      <td>16.4</td>\n",
       "      <td>1</td>\n",
       "    </tr>\n",
       "    <tr>\n",
       "      <th>2011-01-05</th>\n",
       "      <td>Office Supplies</td>\n",
       "      <td>288.1</td>\n",
       "      <td>2</td>\n",
       "    </tr>\n",
       "    <tr>\n",
       "      <th>2011-01-06</th>\n",
       "      <td>Office Supplies</td>\n",
       "      <td>19.5</td>\n",
       "      <td>3</td>\n",
       "    </tr>\n",
       "    <tr>\n",
       "      <th>2011-01-07</th>\n",
       "      <td>Furniture</td>\n",
       "      <td>2,573.8</td>\n",
       "      <td>4</td>\n",
       "    </tr>\n",
       "    <tr>\n",
       "      <th>2011-01-07</th>\n",
       "      <td>Office Supplies</td>\n",
       "      <td>685.3</td>\n",
       "      <td>4</td>\n",
       "    </tr>\n",
       "  </tbody>\n",
       "</table>\n",
       "</div>"
      ],
      "text/plain": [
       "                   Category   Sales  DayofWeek\n",
       "Order Date                                    \n",
       "2011-01-04  Office Supplies    16.4          1\n",
       "2011-01-05  Office Supplies   288.1          2\n",
       "2011-01-06  Office Supplies    19.5          3\n",
       "2011-01-07        Furniture 2,573.8          4\n",
       "2011-01-07  Office Supplies   685.3          4"
      ]
     },
     "metadata": {},
     "output_type": "display_data"
    }
   ],
   "source": [
    "base['DayofWeek'] = base.index.dayofweek # Day of Week: Monday=0, Sunday=6\n",
    "display(base.head())\n",
    "# Note: use dt method when the date variable is not part of the index: \n",
    "# df['Order Date'].dt.dayofweek.head()\n",
    "del(base['DayofWeek'])"
   ]
  },
  {
   "cell_type": "markdown",
   "metadata": {},
   "source": [
    "# Standardizing the DatetimeIndex \n",
    "While data from existing variables may be sufficient, some Time Series applications require that data contain all periods and have a Frequency assigned. We can see above that our data do not have a frequency (freq=None). While the data seem daily, there are many types of possible [frequencies](http://pandas.pydata.org/pandas-docs/stable/timeseries.html#offset-aliases) (business days, weekdays, etc.). If the input data are already standardized, Pandas will infer a Frequency and assign it. Otherwise, we need to ensure there are:\n",
    "- No duplicate index values \n",
    "- No missing index values \n",
    "\n",
    "Setting a Frequency helps ensure the data are standardized and will work in applications, and is also required for functionality like resampling. \n",
    "\n"
   ]
  },
  {
   "cell_type": "markdown",
   "metadata": {},
   "source": [
    "## Pivoting Data:\n",
    "\n",
    "Because there are multiple categories, we have multiple Time Series to analyze. As a result, our __DatetimeIndex__ does not uniquely identify an observation. To uniquely identify observations, we can either add categorical variables to the Index, or set a Pandas DateTimeIndex with separate columns for each series. There are several ways to accomplish this. The first appraoch uses Pandas' built-in __[pivot](https://pandas.pydata.org/pandas-docs/stable/reference/api/pandas.DataFrame.pivot.html)__ method:\n",
    "\n",
    "### Pandas pivot method\n"
   ]
  },
  {
   "cell_type": "code",
   "execution_count": 108,
   "metadata": {},
   "outputs": [
    {
     "data": {
      "text/html": [
       "<div>\n",
       "<style scoped>\n",
       "    .dataframe tbody tr th:only-of-type {\n",
       "        vertical-align: middle;\n",
       "    }\n",
       "\n",
       "    .dataframe tbody tr th {\n",
       "        vertical-align: top;\n",
       "    }\n",
       "\n",
       "    .dataframe thead th {\n",
       "        text-align: right;\n",
       "    }\n",
       "</style>\n",
       "<table border=\"1\" class=\"dataframe\">\n",
       "  <thead>\n",
       "    <tr style=\"text-align: right;\">\n",
       "      <th>Category</th>\n",
       "      <th>Furniture</th>\n",
       "      <th>Office Supplies</th>\n",
       "      <th>Technology</th>\n",
       "    </tr>\n",
       "    <tr>\n",
       "      <th>Order Date</th>\n",
       "      <th></th>\n",
       "      <th></th>\n",
       "      <th></th>\n",
       "    </tr>\n",
       "  </thead>\n",
       "  <tbody>\n",
       "    <tr>\n",
       "      <th>2011-01-04</th>\n",
       "      <td>NaN</td>\n",
       "      <td>16.4</td>\n",
       "      <td>NaN</td>\n",
       "    </tr>\n",
       "    <tr>\n",
       "      <th>2011-01-05</th>\n",
       "      <td>NaN</td>\n",
       "      <td>288.1</td>\n",
       "      <td>NaN</td>\n",
       "    </tr>\n",
       "    <tr>\n",
       "      <th>2011-01-06</th>\n",
       "      <td>NaN</td>\n",
       "      <td>19.5</td>\n",
       "      <td>NaN</td>\n",
       "    </tr>\n",
       "    <tr>\n",
       "      <th>2011-01-07</th>\n",
       "      <td>2,573.8</td>\n",
       "      <td>685.3</td>\n",
       "      <td>1,147.9</td>\n",
       "    </tr>\n",
       "    <tr>\n",
       "      <th>2011-01-08</th>\n",
       "      <td>76.7</td>\n",
       "      <td>10.4</td>\n",
       "      <td>NaN</td>\n",
       "    </tr>\n",
       "  </tbody>\n",
       "</table>\n",
       "</div>"
      ],
      "text/plain": [
       "Category    Furniture  Office Supplies  Technology\n",
       "Order Date                                        \n",
       "2011-01-04        NaN             16.4         NaN\n",
       "2011-01-05        NaN            288.1         NaN\n",
       "2011-01-06        NaN             19.5         NaN\n",
       "2011-01-07    2,573.8            685.3     1,147.9\n",
       "2011-01-08       76.7             10.4         NaN"
      ]
     },
     "execution_count": 108,
     "metadata": {},
     "output_type": "execute_result"
    }
   ],
   "source": [
    "base.reset_index(inplace=True)\n",
    "# Note if we didn't reset the index, we could use index=None below\n",
    "sales_pivot = base.pivot(index='Order Date', columns='Category', values='Sales')\n",
    "sales_pivot.head()"
   ]
  },
  {
   "cell_type": "markdown",
   "metadata": {},
   "source": [
    "Note that missing values (`NaN`) are often introduced here, and can be set to 0 easily using the `fillna(0)` method. \n",
    "\n",
    "### Unstacking:\n",
    "To achieve the same result in Pandas, it is often easier to use the __Index__ and __[unstack](https://pandas.pydata.org/pandas-docs/stable/reference/api/pandas.DataFrame.unstack.html)__ / __[(stack)](https://pandas.pydata.org/pandas-docs/stable/reference/api/pandas.DataFrame.stack.html)__ methods. The __unstack__ method transforms long data into wide data by creating columns by category for levels of the index, while __stack__ does the reverse.\n",
    "\n",
    "Here, we can tell Pandas that the `Date` and `Category` values are part of the __Index__ and use the `unstack` function to generate separate columns (this also removes the `Category` column from the Index):"
   ]
  },
  {
   "cell_type": "code",
   "execution_count": 114,
   "metadata": {},
   "outputs": [
    {
     "data": {
      "text/html": [
       "<div>\n",
       "<style scoped>\n",
       "    .dataframe tbody tr th:only-of-type {\n",
       "        vertical-align: middle;\n",
       "    }\n",
       "\n",
       "    .dataframe tbody tr th {\n",
       "        vertical-align: top;\n",
       "    }\n",
       "\n",
       "    .dataframe thead th {\n",
       "        text-align: right;\n",
       "    }\n",
       "</style>\n",
       "<table border=\"1\" class=\"dataframe\">\n",
       "  <thead>\n",
       "    <tr style=\"text-align: right;\">\n",
       "      <th></th>\n",
       "      <th>Furniture</th>\n",
       "      <th>Office Supplies</th>\n",
       "      <th>Technology</th>\n",
       "    </tr>\n",
       "    <tr>\n",
       "      <th>Order Date</th>\n",
       "      <th></th>\n",
       "      <th></th>\n",
       "      <th></th>\n",
       "    </tr>\n",
       "  </thead>\n",
       "  <tbody>\n",
       "    <tr>\n",
       "      <th>2011-01-04</th>\n",
       "      <td>0.0</td>\n",
       "      <td>16.4</td>\n",
       "      <td>0.0</td>\n",
       "    </tr>\n",
       "    <tr>\n",
       "      <th>2011-01-05</th>\n",
       "      <td>0.0</td>\n",
       "      <td>288.1</td>\n",
       "      <td>0.0</td>\n",
       "    </tr>\n",
       "    <tr>\n",
       "      <th>2011-01-06</th>\n",
       "      <td>0.0</td>\n",
       "      <td>19.5</td>\n",
       "      <td>0.0</td>\n",
       "    </tr>\n",
       "    <tr>\n",
       "      <th>2011-01-07</th>\n",
       "      <td>2,573.8</td>\n",
       "      <td>685.3</td>\n",
       "      <td>1,147.9</td>\n",
       "    </tr>\n",
       "    <tr>\n",
       "      <th>2011-01-08</th>\n",
       "      <td>76.7</td>\n",
       "      <td>10.4</td>\n",
       "      <td>0.0</td>\n",
       "    </tr>\n",
       "  </tbody>\n",
       "</table>\n",
       "</div>"
      ],
      "text/plain": [
       "            Furniture  Office Supplies  Technology\n",
       "Order Date                                        \n",
       "2011-01-04        0.0             16.4         0.0\n",
       "2011-01-05        0.0            288.1         0.0\n",
       "2011-01-06        0.0             19.5         0.0\n",
       "2011-01-07    2,573.8            685.3     1,147.9\n",
       "2011-01-08       76.7             10.4         0.0"
      ]
     },
     "execution_count": 114,
     "metadata": {},
     "output_type": "execute_result"
    }
   ],
   "source": [
    "sales = base.set_index(['Order Date', 'Category']).unstack('Category').fillna(0)\n",
    "\n",
    "# Note -- 2 levels of column names, the original variables are in columns.levels[0], \n",
    "# newly-created category variable names are in columns.levels[1]. This can be reset completely:\n",
    "# sales.columns = sales.columns.levels[1].rename(None)\n",
    "# Alternatively, keeping 'Sales' as a level 0 name allows us to refer to the variables jointly (sales['Sales'])\n",
    "sales.columns = sales.columns.levels[1].rename(None)\n",
    "sales.head()"
   ]
  },
  {
   "cell_type": "code",
   "execution_count": 110,
   "metadata": {},
   "outputs": [
    {
     "name": "stdout",
     "output_type": "stream",
     "text": [
      "DatetimeIndex(['2011-01-04', '2011-01-05', '2011-01-06', '2011-01-07',\n",
      "               '2011-01-08', '2011-01-10', '2011-01-11', '2011-01-12',\n",
      "               '2011-01-14', '2011-01-15',\n",
      "               ...\n",
      "               '2014-12-22', '2014-12-23', '2014-12-24', '2014-12-25',\n",
      "               '2014-12-26', '2014-12-27', '2014-12-28', '2014-12-29',\n",
      "               '2014-12-30', '2014-12-31'],\n",
      "              dtype='datetime64[ns]', name='Order Date', length=1238, freq=None)\n",
      "\n",
      "Unique dates in our data:  1238 Days\n"
     ]
    }
   ],
   "source": [
    "print(sales.index)\n",
    "print('\\nUnique dates in our data: ', len(sales.index.unique()), 'Days')"
   ]
  },
  {
   "cell_type": "markdown",
   "metadata": {},
   "source": [
    "Since we have now created a column for each category, we can see there no longer repeated values in the Datetime Index. \n",
    "\n",
    "## Generating a complete Index and Setting Frequency\n",
    "Since we are using daily data, we would like to set a daily frequency. We see our data has a length of 1238 days. By subtracting the smallest date from the largest date, we can tell there are some days missing:"
   ]
  },
  {
   "cell_type": "code",
   "execution_count": 115,
   "metadata": {},
   "outputs": [
    {
     "name": "stdout",
     "output_type": "stream",
     "text": [
      "\n",
      "Unique dates in our data:  1238 Days\n",
      "Total days in our date range: 1457 Days\n"
     ]
    }
   ],
   "source": [
    "print('\\nUnique dates in our data: ', len(sales.index.unique()), 'Days')\n",
    "our_date_range = sales.index.max() - sales.index.min()\n",
    "\n",
    "# Calculate number of days in date range\n",
    "print('Total days in our date range:', our_date_range.days, 'Days')\n",
    "#date_range = pd.date_range(min(sales.index), max(sales.index))"
   ]
  },
  {
   "cell_type": "markdown",
   "metadata": {},
   "source": [
    "We can generate a complete index using Pandas' __[date_range](https://pandas.pydata.org/pandas-docs/stable/reference/api/pandas.date_range.html)__ function:"
   ]
  },
  {
   "cell_type": "code",
   "execution_count": 116,
   "metadata": {},
   "outputs": [
    {
     "name": "stdout",
     "output_type": "stream",
     "text": [
      "DatetimeIndex(['2011-01-04', '2011-01-05', '2011-01-06', '2011-01-07',\n",
      "               '2011-01-08', '2011-01-09', '2011-01-10', '2011-01-11',\n",
      "               '2011-01-12', '2011-01-13',\n",
      "               ...\n",
      "               '2014-12-22', '2014-12-23', '2014-12-24', '2014-12-25',\n",
      "               '2014-12-26', '2014-12-27', '2014-12-28', '2014-12-29',\n",
      "               '2014-12-30', '2014-12-31'],\n",
      "              dtype='datetime64[ns]', length=1458, freq='D')\n"
     ]
    }
   ],
   "source": [
    "new_index = pd.date_range(sales.index.min(), sales.index.max())\n",
    "print(new_index)"
   ]
  },
  {
   "cell_type": "markdown",
   "metadata": {},
   "source": [
    "To use this index, we need to tell Pandas how to treat missing values. In this case, we want to use zero for days without sales data. "
   ]
  },
  {
   "cell_type": "code",
   "execution_count": 119,
   "metadata": {},
   "outputs": [],
   "source": [
    "sales_new = sales.reindex(new_index, fill_value=0)"
   ]
  },
  {
   "cell_type": "code",
   "execution_count": 120,
   "metadata": {},
   "outputs": [
    {
     "data": {
      "text/plain": [
       "DatetimeIndex(['2011-01-04', '2011-01-05', '2011-01-06', '2011-01-07',\n",
       "               '2011-01-08', '2011-01-09', '2011-01-10', '2011-01-11',\n",
       "               '2011-01-12', '2011-01-13',\n",
       "               ...\n",
       "               '2014-12-22', '2014-12-23', '2014-12-24', '2014-12-25',\n",
       "               '2014-12-26', '2014-12-27', '2014-12-28', '2014-12-29',\n",
       "               '2014-12-30', '2014-12-31'],\n",
       "              dtype='datetime64[ns]', length=1458, freq='D')"
      ]
     },
     "execution_count": 120,
     "metadata": {},
     "output_type": "execute_result"
    }
   ],
   "source": [
    "sales_new.index"
   ]
  },
  {
   "cell_type": "markdown",
   "metadata": {},
   "source": [
    "We can see the result now has a daily frequency. While some Time Seriods models will work without an explicit frequency, many will not. It is also helps to ensure we aren't missing important dates when summarizing and plotting the data. \n",
    "\n",
    "\n",
    "## Resampling \n",
    "We can now easily Resample our data at any desired frequency, using either the `asfreq` method or the `resample` method. The `asfreq` method assumes a default fill approach (which can be dangerous). The `resample` method allows this to be specified directly. which generates a __[resampler](https://pandas.pydata.org/pandas-docs/stable/reference/resampling.html)__ object. To get to values, we need to specify an aggregation function if upsampling (moving to a lower frequency), or fill function if downsampling (moving to a higher frequency). This typically the sum or mean for upsampling, or interpolate for downsampling. We generate results for some common frequencies below:\n",
    "### Upsampling (Moving to a longer period)"
   ]
  },
  {
   "cell_type": "code",
   "execution_count": null,
   "metadata": {},
   "outputs": [],
   "source": [
    "sales_weekly = sales_new.resample('W').sum()\n",
    "print('Weekly Sales')\n",
    "print(sales_weekly.head(), '\\n')\n",
    "\n",
    "sales_monthly = sales_new.resample('M').sum()\n",
    "print('Monthly Sales')\n",
    "print(sales_monthly.head(), '\\n')\n",
    "\n",
    "sales_quarterly = sales_new.resample('Q').sum()\n",
    "print('Quarterly Sales')\n",
    "print(sales_quarterly.head(), '\\n')\n",
    "\n",
    "sales_annual = sales_new.resample('Y').sum()\n",
    "print('Annual Sales')\n",
    "print(sales_annual.head())"
   ]
  },
  {
   "cell_type": "markdown",
   "metadata": {},
   "source": [
    "### Downsampling (moving to a shorter period)\n",
    "Just as upsampling (moving to a larger period) requires an aggregation function, downsampling (moving from Annual to Monthly, for example) requires an option to fill in missing values. A common approach is the __[interpolate](https://pandas.pydata.org/pandas-docs/stable/reference/api/pandas.core.resample.Resampler.interpolate.html)__ method, which allows various types of interpolation (linear, spline, etc.). Other options (ffill forward fill, bfill backward fill) are also supported."
   ]
  },
  {
   "cell_type": "code",
   "execution_count": null,
   "metadata": {},
   "outputs": [],
   "source": [
    "# Note that downsampling (from Annual to Monthly for example) produces missing values:\n",
    "sales_monthly_from_annual = sales_annual.resample('M')\n",
    "#print('Monthly from Annual Sales')\n",
    "#sales_monthly_from_annual.interpolate(method='linear').head()\n",
    "print(sales_monthly_from_annual.interpolate(method='spline', order=3).head())"
   ]
  },
  {
   "cell_type": "markdown",
   "metadata": {},
   "source": [
    "#### Resampling by changing frequency directly\n",
    "Another way to achieve this is to use the `asfreq` method:"
   ]
  },
  {
   "cell_type": "code",
   "execution_count": null,
   "metadata": {},
   "outputs": [],
   "source": [
    "sales_daily = sales.asfreq('D')\n",
    "sales_businessday = sales.asfreq('B')\n",
    "sales_hourly = sales.asfreq('h')\n",
    "# This will generate missing values:\n",
    "sales_hourly.head()"
   ]
  },
  {
   "cell_type": "markdown",
   "metadata": {},
   "source": [
    "## Variable Transformations\n",
    "For Time Series models, we may want to use transformed variables (log, difference, growth rate, etc). The example below illustrates how we might generate these variables in Pandas, using the Monthly Sales dataset. \n",
    "\n",
    "### Stationarity Transformations\n",
    "Concerns about Stationarity often lead to considering variable transformations. Some commonly-used transformation methods (Variable Differencing, Percentage Change, and Log) are implemented below. Because of Index has several levels here, these transformations can be done for each outcome variable with one line (the results could be joined together using the Pandas __[concat](https://pandas.pydata.org/pandas-docs/stable/reference/api/pandas.concat.html)__ method). "
   ]
  },
  {
   "cell_type": "code",
   "execution_count": null,
   "metadata": {},
   "outputs": [],
   "source": [
    "# Variable First Difference\n",
    "print('Monthly Sales, First Difference \\n', sales_monthly.diff().head())\n",
    "\n",
    "# Variable Percent Change\n",
    "print('\\nMonthly Sales % Change \\n', sales_monthly.pct_change().head())\n",
    "\n",
    "# Log Sales\n",
    "print('\\nlog(1+Monthly Sales) \\n', np.log(1 +  sales_monthly).head())\n",
    "\n",
    "# Add % change to original data:\n",
    "sales_monthly.join(sales_monthly.pct_change().add_suffix('_%_Change')).head()"
   ]
  },
  {
   "cell_type": "markdown",
   "metadata": {},
   "source": [
    "### Rolling Averages and Windows\n",
    "Another approach to transforming data involves looking at rolling averages. We will discuss this further in the Smoothing lessons. Here we set up rolling calculations for Mean and Standard Deviation, with variable window size. We will plot these a bit later."
   ]
  },
  {
   "cell_type": "code",
   "execution_count": null,
   "metadata": {},
   "outputs": [],
   "source": [
    "window_size = 7\n",
    "rolling_window = sales_new.rolling(window_size)\n",
    "print('Rolling Mean')\n",
    "print(rolling_window.mean().dropna().head())\n",
    "print('\\nRolling St. Dev')\n",
    "print(rolling_window.std().dropna().head())\n",
    "print('\\nCumulative Sales')\n",
    "print(sales_new.cumsum().dropna().head())\n"
   ]
  },
  {
   "cell_type": "markdown",
   "metadata": {},
   "source": [
    "# Visualization\n",
    "Here we explore methods for plotting Time Series Data. Most of these packages use __Matplotlib's [pyplot](https://matplotlib.org/3.1.1/api/_as_gen/matplotlib.pyplot.html)__ library, although it may not be called directly. This means it is possible to adjust plot features, like the title, using __pyplot__ commands.\n",
    "\n",
    "## Pandas Built-in Plotting\n",
    "Pandas DataFrames have a built-in __[plot](https://pandas.pydata.org/pandas-docs/stable/reference/api/pandas.DataFrame.plot.html)__ method which, by default, plots columns against the index:"
   ]
  },
  {
   "cell_type": "code",
   "execution_count": null,
   "metadata": {},
   "outputs": [],
   "source": [
    "sales_quarterly.plot(figsize=plotsize, title='Quarterly Sales')\n",
    "#plt.title('Monthly Sales')\n",
    "sales_monthly.plot(figsize=plotsize, title='Monthly Sales')\n",
    "#plt.title('Monthly Sales')\n",
    "sales_weekly.plot(figsize=plotsize, title='Weekly Sales')\n",
    "#plt.title('Monthly Sales')"
   ]
  },
  {
   "cell_type": "markdown",
   "metadata": {},
   "source": [
    "Here, we plot functions like rolling averages and cumulative Sales calculated above:"
   ]
  },
  {
   "cell_type": "code",
   "execution_count": null,
   "metadata": {},
   "outputs": [],
   "source": [
    "#rolling_window.mean().plot(figsize=plotsize, title='Daily Sales, 7-day Rolling Average')\n",
    "rolling_window.std().plot(figsize=plotsize, title='Daily Sales Standard Deviation, 7-day Rolling Average')\n",
    "\n",
    "# Monthly Sales Percent Change\n",
    "sales_monthly.pct_change().plot(figsize=plotsize, title='Monthly Sales % Change')\n",
    "\n",
    "# Cumulative Weekly Sales\n",
    "sales_weekly.cumsum().plot(figsize=plotsize, title='Cumulative Weekly Sales')\n",
    "\n",
    "# Quarterly Sales Growth\n",
    "sales_quarterly.pct_change().plot(figsize=plotsize, title='Quarterly Sales % Change')\n"
   ]
  },
  {
   "cell_type": "markdown",
   "metadata": {},
   "source": [
    "## Time Series Visualizations\n",
    "There are a number of packages to help analyze Time Series data and create relevant plots. One example is __[statsmodels](https://www.statsmodels.org/stable/graphics.html#time-series-plots)__, which includes a number of methods for plotting Time Series-specific visualizations:\n",
    "- __[plot_acf](https://www.statsmodels.org/stable/generated/statsmodels.graphics.tsaplots.plot_acf.html#statsmodels.graphics.tsaplots.plot_acf)__: Plot of the Autocorrelation Function\n",
    "- __[plot_pacf](https://www.statsmodels.org/stable/generated/statsmodels.graphics.tsaplots.plot_pacf.html#statsmodels.graphics.tsaplots.plot_pacf)__: Plot of the Partial Autocorrelation Function\n",
    "- __[month_plot](https://www.statsmodels.org/stable/generated/statsmodels.graphics.tsaplots.month_plot.html#statsmodels.graphics.tsaplots.month_plot)__: Seasonal Plot for Monthly Data\n",
    "- __[quarter_plot](https://www.statsmodels.org/stable/generated/statsmodels.graphics.tsaplots.quarter_plot.html#statsmodels.graphics.tsaplots.quarter_plot)__: Seasonal Plot for Quarterly Data\n",
    "\n",
    "Some examples are illustrated below:\n"
   ]
  },
  {
   "cell_type": "code",
   "execution_count": null,
   "metadata": {},
   "outputs": [],
   "source": [
    "from statsmodels.graphics.tsaplots import plot_acf, plot_pacf, month_plot, quarter_plot\n",
    "\n",
    "print('Daily data Autocorrelation Plots')\n",
    "# Autocorrelation and Partial Autocorrelation Functions for Daily Data\n",
    "#plot_acf(sales_new['Sales']['Furniture'])\n",
    "acf_plot = plot_acf(sales_new['Furniture'], lags=30, title='Autocorrelation in Furniture Daily Sales Data')\n",
    "#plot_acf(sales_new['Sales']['Furniture'])\n",
    "pacf_plot = plot_pacf(sales_new['Furniture'], lags=30, title='Partial Autocorrelation in Furniture Daily Sales Data')\n",
    "#plot_acf(sales_new['Sales']['Furniture'])"
   ]
  },
  {
   "cell_type": "code",
   "execution_count": null,
   "metadata": {},
   "outputs": [],
   "source": [
    "print('\\nWeekly data Autocorrelation Plots')\n",
    "# Autocorrelation and Partial Autocorrelation Functions for Daily Data\n",
    "#plot_acf(sales_new['Sales']['Furniture'])\n",
    "acf_plot = plot_acf(sales_weekly['Furniture'], lags=12, title='Autocorrelation in Furniture Weekly Sales Data')\n",
    "#plot_acf(sales_new['Sales']['Furniture'])\n",
    "pacf_plot = plot_pacf(sales_weekly['Furniture'], lags=12, title='Partial Autocorrelation in Furniture Weekly Sales Data')\n",
    "#plot_acf(sales_new['Sales']['Furniture'])"
   ]
  },
  {
   "cell_type": "code",
   "execution_count": null,
   "metadata": {},
   "outputs": [],
   "source": [
    "print('\\nMonthly Data Seasonal Plot')\n",
    "m_plot = month_plot(sales_monthly['Furniture'])"
   ]
  },
  {
   "cell_type": "code",
   "execution_count": null,
   "metadata": {},
   "outputs": [],
   "source": [
    "print('\\nQuarterly Data Seasonal Plot')\n",
    "q_plot = quarter_plot(sales_quarterly['Furniture'])"
   ]
  },
  {
   "cell_type": "markdown",
   "metadata": {},
   "source": [
    "# Exercises\n",
    "## Exercise 1:\n",
    "Using the source data, set up Monthly data for Sales and Profit by Segment by either (1) Resampling or (2) Grouping data by Year and Month."
   ]
  },
  {
   "cell_type": "code",
   "execution_count": null,
   "metadata": {},
   "outputs": [],
   "source": [
    "### BEGIN SOLUTION\n",
    "new_vars = ['Segment','Profit','Order Date','Sales']\n",
    "new_base = df[new_vars].set_index('Order Date')\n",
    "prof_pivot = new_base.pivot_table(columns='Segment',index = 'Order Date')\n",
    "prof_month = prof_pivot.resample('M').sum()\n",
    "prof_month.head()\n",
    "### END SOLUTION"
   ]
  },
  {
   "cell_type": "markdown",
   "metadata": {},
   "source": [
    "## Exercise 2:\n",
    "Analyze the results from the first exercise to determine whether Autocorrelation or Seasonal patterns differ by Segment or whether we are looking at Sales or Profits."
   ]
  },
  {
   "cell_type": "code",
   "execution_count": null,
   "metadata": {},
   "outputs": [],
   "source": [
    "### BEGIN SOLUTION\n",
    "fig,axes = plt.subplots(9,2,figsize=(20,15),)\n",
    "for i,cat in enumerate(['Consumer','Corporate','Home Office']):\n",
    "    for j,money in enumerate(['Sales','Profit']):\n",
    "        axes[i,j].plot(prof_month[money,cat])\n",
    "        axes[i,j].title.set_text(cat+\" \"+money)\n",
    "        plot_acf(prof_month[money,cat],ax=axes[i+3,j],title = cat+\" \"+money+\" ACF\")\n",
    "        month_plot(prof_month[money,cat],ax=axes[i+6,j])\n",
    "\n",
    "fig.tight_layout()\n",
    "plt.show()\n",
    "### END SOLUTION"
   ]
  },
  {
   "cell_type": "markdown",
   "metadata": {},
   "source": [
    "Seasonal patterns across groups are pretty similar and there is very little autocorrelation.\n",
    "\n",
    "## Exercise 3:\n",
    "Use the result from Exercise 2 to develop an EDA function to explore other variables (like Region or Sub-Category) that may be of interest."
   ]
  },
  {
   "cell_type": "code",
   "execution_count": 45,
   "metadata": {},
   "outputs": [],
   "source": [
    "### BEGIN SOLUTION\n",
    "cat_var = 'Region'\n",
    "date_var = 'Order Date'\n",
    "money_vars = ['Profit', 'Sales']\n",
    "\n",
    "def monthly_eda(cat_var=cat_var,\n",
    "                date_var=date_var, \n",
    "                money_vars=money_vars):\n",
    "    new_vars = [cat_var, date_var] + money_vars\n",
    "    cats = list(df[cat_var].unique())\n",
    "    num_cats = len(cats)\n",
    "    new_base = df[new_vars].set_index(date_var)\n",
    "    prof_pivot = new_base.pivot_table(columns=cat_var,index = date_var)\n",
    "    prof_month = prof_pivot.resample('M').sum()\n",
    "    prof_month.head()\n",
    "\n",
    "    fig,axes = plt.subplots(num_cats*3, 2, figsize=(20, 5*num_cats),)\n",
    "    for i,cat in enumerate(cats):\n",
    "        for j,money in enumerate(money_vars):\n",
    "            axes[i,j].plot(prof_month[money,cat])\n",
    "            axes[i,j].title.set_text(cat+\" \"+money)\n",
    "            fig = plot_acf(prof_month[money,cat],ax=axes[i+num_cats,j],title = cat+\" \"+money+\" ACF\")\n",
    "            fig = month_plot(prof_month[money,cat],ax=axes[i+num_cats*2,j])\n",
    "            axes[i+num_cats*2,j].title.set_text(cat+\" Seasonality\")\n",
    "\n",
    "    fig.tight_layout()\n",
    "    plt.show()\n",
    "### END SOLUTION"
   ]
  },
  {
   "cell_type": "code",
   "execution_count": null,
   "metadata": {},
   "outputs": [],
   "source": [
    "monthly_eda(cat_var='Region')"
   ]
  },
  {
   "cell_type": "code",
   "execution_count": null,
   "metadata": {},
   "outputs": [],
   "source": [
    "monthly_eda(cat_var='Sub-Category')"
   ]
  },
  {
   "cell_type": "markdown",
   "metadata": {},
   "source": [
    "---\n",
    "### Machine Learning Foundation (C) 2020 IBM Corporation"
   ]
  }
 ],
 "metadata": {
  "kernelspec": {
   "display_name": "venv",
   "language": "python",
   "name": "python3"
  },
  "language_info": {
   "codemirror_mode": {
    "name": "ipython",
    "version": 3
   },
   "file_extension": ".py",
   "mimetype": "text/x-python",
   "name": "python",
   "nbconvert_exporter": "python",
   "pygments_lexer": "ipython3",
   "version": "3.12.7"
  }
 },
 "nbformat": 4,
 "nbformat_minor": 4
}
